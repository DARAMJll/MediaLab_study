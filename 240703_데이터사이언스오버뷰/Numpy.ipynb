{
 "cells": [
  {
   "cell_type": "markdown",
   "id": "de008c88",
   "metadata": {},
   "source": [
    "### Numpy"
   ]
  },
  {
   "cell_type": "code",
   "execution_count": 1,
   "id": "32335991",
   "metadata": {},
   "outputs": [],
   "source": [
    "import numpy as np"
   ]
  },
  {
   "cell_type": "code",
   "execution_count": 2,
   "id": "25d9411b",
   "metadata": {},
   "outputs": [
    {
     "data": {
      "text/plain": [
       "array([1, 3, 5, 6, 7, 9])"
      ]
     },
     "execution_count": 2,
     "metadata": {},
     "output_type": "execute_result"
    }
   ],
   "source": [
    "array1 = np.array([1, 3, 5, 6, 7, 9])\n",
    "array1"
   ]
  },
  {
   "cell_type": "code",
   "execution_count": 4,
   "id": "fad8cd26",
   "metadata": {},
   "outputs": [
    {
     "name": "stdout",
     "output_type": "stream",
     "text": [
      "[0. 0. 0. 0. 0.]\n",
      "[0 1 2 3 4 5 6 7 8 9]\n",
      "[2 3 4 5 6 7 8 9]\n",
      "[ 4  7 10 13 16]\n"
     ]
    }
   ],
   "source": [
    "print(np.zeros(5))\n",
    "print(np.arange(10))\n",
    "print(np.arange(2, 10))\n",
    "print(np.arange(4, 17, 3))"
   ]
  },
  {
   "cell_type": "code",
   "execution_count": 5,
   "id": "1b806c0e",
   "metadata": {},
   "outputs": [
    {
     "data": {
      "text/plain": [
       "numpy.ndarray"
      ]
     },
     "execution_count": 5,
     "metadata": {},
     "output_type": "execute_result"
    }
   ],
   "source": [
    "type(array1)"
   ]
  },
  {
   "cell_type": "code",
   "execution_count": 10,
   "id": "d3de1581",
   "metadata": {},
   "outputs": [
    {
     "data": {
      "text/plain": [
       "12"
      ]
     },
     "execution_count": 10,
     "metadata": {},
     "output_type": "execute_result"
    }
   ],
   "source": [
    "array2 = np.array([[1, 2, 3, 4],[2, 3, 4, 5],[4, 5, 6, 7]])\n",
    "array2.size"
   ]
  },
  {
   "cell_type": "code",
   "execution_count": 12,
   "id": "fd06efa2",
   "metadata": {},
   "outputs": [
    {
     "data": {
      "text/plain": [
       "(3, 4)"
      ]
     },
     "execution_count": 12,
     "metadata": {},
     "output_type": "execute_result"
    }
   ],
   "source": [
    "array2.shape"
   ]
  },
  {
   "cell_type": "markdown",
   "id": "5172ca1f",
   "metadata": {},
   "source": [
    "### 인덱싱/슬라이싱"
   ]
  },
  {
   "cell_type": "code",
   "execution_count": 13,
   "id": "a121700e",
   "metadata": {},
   "outputs": [],
   "source": [
    "gdp_array = np.array([6610,7037,8127,8885,10385,12565,13403,12390,8282,10672])"
   ]
  },
  {
   "cell_type": "code",
   "execution_count": 15,
   "id": "991191ee",
   "metadata": {},
   "outputs": [
    {
     "data": {
      "text/plain": [
       "10672"
      ]
     },
     "execution_count": 15,
     "metadata": {},
     "output_type": "execute_result"
    }
   ],
   "source": [
    "gdp_array[-1]"
   ]
  },
  {
   "cell_type": "code",
   "execution_count": 17,
   "id": "817b18a6",
   "metadata": {},
   "outputs": [
    {
     "data": {
      "text/plain": [
       "array([ 7037,  8885, 10385])"
      ]
     },
     "execution_count": 17,
     "metadata": {},
     "output_type": "execute_result"
    }
   ],
   "source": [
    "gdp_array[[1, 3, 4]]"
   ]
  },
  {
   "cell_type": "code",
   "execution_count": 18,
   "id": "d7d95e59",
   "metadata": {},
   "outputs": [
    {
     "data": {
      "text/plain": [
       "array([ 8127,  7037, 10385])"
      ]
     },
     "execution_count": 18,
     "metadata": {},
     "output_type": "execute_result"
    }
   ],
   "source": [
    "array1 = np.array([2, 1 ,4])\n",
    "gdp_array[array1]"
   ]
  },
  {
   "cell_type": "code",
   "execution_count": 19,
   "id": "429e0f7a",
   "metadata": {},
   "outputs": [
    {
     "data": {
      "text/plain": [
       "array([ 8127,  8885, 10385, 12565])"
      ]
     },
     "execution_count": 19,
     "metadata": {},
     "output_type": "execute_result"
    }
   ],
   "source": [
    "gdp_array[2:6]"
   ]
  },
  {
   "cell_type": "code",
   "execution_count": 20,
   "id": "1179918f",
   "metadata": {},
   "outputs": [
    {
     "data": {
      "text/plain": [
       "array([ 6610,  7037,  8127,  8885, 10385, 12565])"
      ]
     },
     "execution_count": 20,
     "metadata": {},
     "output_type": "execute_result"
    }
   ],
   "source": [
    "gdp_array[:6]"
   ]
  },
  {
   "cell_type": "code",
   "execution_count": 21,
   "id": "b4e5a645",
   "metadata": {},
   "outputs": [
    {
     "data": {
      "text/plain": [
       "array([ 7037, 10385, 12390])"
      ]
     },
     "execution_count": 21,
     "metadata": {},
     "output_type": "execute_result"
    }
   ],
   "source": [
    "gdp_array[1:8:3]"
   ]
  },
  {
   "cell_type": "markdown",
   "id": "05c9ae23",
   "metadata": {},
   "source": [
    "* 2차원 array"
   ]
  },
  {
   "cell_type": "code",
   "execution_count": 23,
   "id": "40f3bb2b",
   "metadata": {},
   "outputs": [
    {
     "data": {
      "text/plain": [
       "array([[12257, 11561, 13165, 14673, 16496, 19403],\n",
       "       [39169, 34406, 32821, 35387, 38299, 37813],\n",
       "       [  959,  1053,  1149,  1289,  1509,  1753],\n",
       "       [36335, 37133, 38023, 39496, 41713, 44115]])"
      ]
     },
     "execution_count": 23,
     "metadata": {},
     "output_type": "execute_result"
    }
   ],
   "source": [
    "gdp_array2 = np.array([\n",
    "    [12257,11561,13165,14673,16496,19403], #한국\n",
    "    [39169,34406,32821,35387,38299,37813], #일본\n",
    "    [959,1053,1149,1289,1509,1753], #중국\n",
    "    [36335,37133,38023,39496,41713,44115] #미국\n",
    "])\n",
    "\n",
    "gdp_array2"
   ]
  },
  {
   "cell_type": "code",
   "execution_count": 25,
   "id": "c5632328",
   "metadata": {},
   "outputs": [
    {
     "data": {
      "text/plain": [
       "array([39169, 34406, 32821, 35387, 38299, 37813])"
      ]
     },
     "execution_count": 25,
     "metadata": {},
     "output_type": "execute_result"
    }
   ],
   "source": [
    "gdp_array2[1]"
   ]
  },
  {
   "cell_type": "code",
   "execution_count": 26,
   "id": "25ea09bb",
   "metadata": {},
   "outputs": [
    {
     "data": {
      "text/plain": [
       "35387"
      ]
     },
     "execution_count": 26,
     "metadata": {},
     "output_type": "execute_result"
    }
   ],
   "source": [
    "gdp_array2[1,3]"
   ]
  },
  {
   "cell_type": "code",
   "execution_count": 27,
   "id": "c94d438f",
   "metadata": {},
   "outputs": [
    {
     "data": {
      "text/plain": [
       "array([[32821, 35387, 38299],\n",
       "       [ 1149,  1289,  1509]])"
      ]
     },
     "execution_count": 27,
     "metadata": {},
     "output_type": "execute_result"
    }
   ],
   "source": [
    "gdp_array2[1:3, 2:5]"
   ]
  },
  {
   "cell_type": "code",
   "execution_count": 28,
   "id": "2c37169f",
   "metadata": {},
   "outputs": [
    {
     "data": {
      "text/plain": [
       "array([[32821, 35387, 38299, 37813],\n",
       "       [ 1149,  1289,  1509,  1753]])"
      ]
     },
     "execution_count": 28,
     "metadata": {},
     "output_type": "execute_result"
    }
   ],
   "source": [
    "gdp_array2[1:3, 2:]"
   ]
  },
  {
   "cell_type": "code",
   "execution_count": 29,
   "id": "bc00504f",
   "metadata": {},
   "outputs": [
    {
     "data": {
      "text/plain": [
       "array([[13165, 14673, 16496],\n",
       "       [32821, 35387, 38299],\n",
       "       [ 1149,  1289,  1509],\n",
       "       [38023, 39496, 41713]])"
      ]
     },
     "execution_count": 29,
     "metadata": {},
     "output_type": "execute_result"
    }
   ],
   "source": [
    "gdp_array2[:, 2:5]"
   ]
  },
  {
   "cell_type": "markdown",
   "id": "328ac6aa",
   "metadata": {},
   "source": [
    "### 불린 인덱싱"
   ]
  },
  {
   "cell_type": "code",
   "execution_count": 33,
   "id": "65cf9edb",
   "metadata": {},
   "outputs": [
    {
     "data": {
      "text/plain": [
       "array([10385, 12565, 13403, 12390, 10672])"
      ]
     },
     "execution_count": 33,
     "metadata": {},
     "output_type": "execute_result"
    }
   ],
   "source": [
    "mask = gdp_array > 10000\n",
    "gdp_array[mask]"
   ]
  },
  {
   "cell_type": "code",
   "execution_count": 35,
   "id": "f167ca77",
   "metadata": {},
   "outputs": [
    {
     "data": {
      "text/plain": [
       "array([ True,  True, False, False,  True,  True,  True,  True, False,\n",
       "        True])"
      ]
     },
     "execution_count": 35,
     "metadata": {},
     "output_type": "execute_result"
    }
   ],
   "source": [
    "(gdp_array > 10000) | (gdp_array < 8000)"
   ]
  },
  {
   "cell_type": "markdown",
   "id": "c17e0b7b",
   "metadata": {},
   "source": [
    "### Numpy 기본연산 "
   ]
  },
  {
   "cell_type": "code",
   "execution_count": 44,
   "id": "e4315861",
   "metadata": {},
   "outputs": [],
   "source": [
    "gdp_korea_array = np.array([12257, 11561 ,13165, 14673, 16496, 19403])\n",
    "gdp_us_array = np.array([36335,37133,38023,39496,41713,44115])"
   ]
  },
  {
   "cell_type": "code",
   "execution_count": 42,
   "id": "86c1e2ef",
   "metadata": {},
   "outputs": [
    {
     "data": {
      "text/plain": [
       "14592.5"
      ]
     },
     "execution_count": 42,
     "metadata": {},
     "output_type": "execute_result"
    }
   ],
   "source": [
    "gdp_korea_array.mean() # sum, min, max 도 가능"
   ]
  },
  {
   "cell_type": "code",
   "execution_count": 43,
   "id": "398d8aa2",
   "metadata": {},
   "outputs": [
    {
     "data": {
      "text/plain": [
       "array([14708400, 13873200, 15798000, 17607600, 19795200, 23283600])"
      ]
     },
     "execution_count": 43,
     "metadata": {},
     "output_type": "execute_result"
    }
   ],
   "source": [
    "gdp_korea_array * 1200"
   ]
  },
  {
   "cell_type": "code",
   "execution_count": 45,
   "id": "0f20b4d4",
   "metadata": {},
   "outputs": [
    {
     "data": {
      "text/plain": [
       "array([24078, 25572, 24858, 24823, 25217, 24712])"
      ]
     },
     "execution_count": 45,
     "metadata": {},
     "output_type": "execute_result"
    }
   ],
   "source": [
    "gdp_us_array - gdp_korea_array"
   ]
  },
  {
   "cell_type": "code",
   "execution_count": null,
   "id": "d30a2a8d",
   "metadata": {},
   "outputs": [],
   "source": []
  }
 ],
 "metadata": {
  "kernelspec": {
   "display_name": "Python 3 (ipykernel)",
   "language": "python",
   "name": "python3"
  },
  "language_info": {
   "codemirror_mode": {
    "name": "ipython",
    "version": 3
   },
   "file_extension": ".py",
   "mimetype": "text/x-python",
   "name": "python",
   "nbconvert_exporter": "python",
   "pygments_lexer": "ipython3",
   "version": "3.11.5"
  }
 },
 "nbformat": 4,
 "nbformat_minor": 5
}
